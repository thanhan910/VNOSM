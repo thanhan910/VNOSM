{
 "cells": [
  {
   "cell_type": "code",
   "execution_count": 1,
   "metadata": {},
   "outputs": [
    {
     "ename": "KeyboardInterrupt",
     "evalue": "",
     "output_type": "error",
     "traceback": [
      "\u001b[1;31m---------------------------------------------------------------------------\u001b[0m",
      "\u001b[1;31mKeyboardInterrupt\u001b[0m                         Traceback (most recent call last)",
      "\u001b[1;32mc:\\Users\\An\\Documents\\GitHub\\VNOSM\\test.ipynb Cell 1\u001b[0m line \u001b[0;36m7\n\u001b[0;32m      <a href='vscode-notebook-cell:/c%3A/Users/An/Documents/GitHub/VNOSM/test.ipynb#X16sZmlsZQ%3D%3D?line=3'>4</a>\u001b[0m place_name \u001b[39m=\u001b[39m \u001b[39m\"\u001b[39m\u001b[39mNew York City, United States\u001b[39m\u001b[39m\"\u001b[39m\n\u001b[0;32m      <a href='vscode-notebook-cell:/c%3A/Users/An/Documents/GitHub/VNOSM/test.ipynb#X16sZmlsZQ%3D%3D?line=5'>6</a>\u001b[0m \u001b[39m# Download OSM data\u001b[39;00m\n\u001b[1;32m----> <a href='vscode-notebook-cell:/c%3A/Users/An/Documents/GitHub/VNOSM/test.ipynb#X16sZmlsZQ%3D%3D?line=6'>7</a>\u001b[0m G \u001b[39m=\u001b[39m ox\u001b[39m.\u001b[39;49mgraph_from_place(place_name, network_type\u001b[39m=\u001b[39;49m\u001b[39m'\u001b[39;49m\u001b[39mall\u001b[39;49m\u001b[39m'\u001b[39;49m)\n",
      "File \u001b[1;32m~\\AppData\\Roaming\\Python\\Python312\\site-packages\\osmnx\\graph.py:375\u001b[0m, in \u001b[0;36mgraph_from_place\u001b[1;34m(query, network_type, simplify, retain_all, truncate_by_edge, which_result, buffer_dist, clean_periphery, custom_filter)\u001b[0m\n\u001b[0;32m    372\u001b[0m utils\u001b[39m.\u001b[39mlog(\u001b[39m\"\u001b[39m\u001b[39mConstructed place geometry polygon(s) to query API\u001b[39m\u001b[39m\"\u001b[39m)\n\u001b[0;32m    374\u001b[0m \u001b[39m# create graph using this polygon(s) geometry\u001b[39;00m\n\u001b[1;32m--> 375\u001b[0m G \u001b[39m=\u001b[39m graph_from_polygon(\n\u001b[0;32m    376\u001b[0m     polygon,\n\u001b[0;32m    377\u001b[0m     network_type\u001b[39m=\u001b[39;49mnetwork_type,\n\u001b[0;32m    378\u001b[0m     simplify\u001b[39m=\u001b[39;49msimplify,\n\u001b[0;32m    379\u001b[0m     retain_all\u001b[39m=\u001b[39;49mretain_all,\n\u001b[0;32m    380\u001b[0m     truncate_by_edge\u001b[39m=\u001b[39;49mtruncate_by_edge,\n\u001b[0;32m    381\u001b[0m     clean_periphery\u001b[39m=\u001b[39;49mclean_periphery,\n\u001b[0;32m    382\u001b[0m     custom_filter\u001b[39m=\u001b[39;49mcustom_filter,\n\u001b[0;32m    383\u001b[0m )\n\u001b[0;32m    385\u001b[0m utils\u001b[39m.\u001b[39mlog(\u001b[39mf\u001b[39m\u001b[39m\"\u001b[39m\u001b[39mgraph_from_place returned graph with \u001b[39m\u001b[39m{\u001b[39;00m\u001b[39mlen\u001b[39m(G)\u001b[39m:\u001b[39;00m\u001b[39m,\u001b[39m\u001b[39m}\u001b[39;00m\u001b[39m nodes and \u001b[39m\u001b[39m{\u001b[39;00m\u001b[39mlen\u001b[39m(G\u001b[39m.\u001b[39medges)\u001b[39m:\u001b[39;00m\u001b[39m,\u001b[39m\u001b[39m}\u001b[39;00m\u001b[39m edges\u001b[39m\u001b[39m\"\u001b[39m)\n\u001b[0;32m    386\u001b[0m \u001b[39mreturn\u001b[39;00m G\n",
      "File \u001b[1;32m~\\AppData\\Roaming\\Python\\Python312\\site-packages\\osmnx\\graph.py:485\u001b[0m, in \u001b[0;36mgraph_from_polygon\u001b[1;34m(polygon, network_type, simplify, retain_all, truncate_by_edge, clean_periphery, custom_filter)\u001b[0m\n\u001b[0;32m    483\u001b[0m \u001b[39m# simplify the graph topology\u001b[39;00m\n\u001b[0;32m    484\u001b[0m \u001b[39mif\u001b[39;00m simplify:\n\u001b[1;32m--> 485\u001b[0m     G_buff \u001b[39m=\u001b[39m simplification\u001b[39m.\u001b[39;49msimplify_graph(G_buff)\n\u001b[0;32m    487\u001b[0m \u001b[39m# truncate graph by original polygon to return graph within polygon\u001b[39;00m\n\u001b[0;32m    488\u001b[0m \u001b[39m# caller wants. don't simplify again: this allows us to retain\u001b[39;00m\n\u001b[0;32m    489\u001b[0m \u001b[39m# intersections along the street that may now only connect 2 street\u001b[39;00m\n\u001b[0;32m    490\u001b[0m \u001b[39m# segments in the network, but in reality also connect to an\u001b[39;00m\n\u001b[0;32m    491\u001b[0m \u001b[39m# intersection just outside the polygon\u001b[39;00m\n\u001b[0;32m    492\u001b[0m G \u001b[39m=\u001b[39m truncate\u001b[39m.\u001b[39mtruncate_graph_polygon(G_buff, polygon, retain_all, truncate_by_edge)\n",
      "File \u001b[1;32m~\\AppData\\Roaming\\Python\\Python312\\site-packages\\osmnx\\simplification.py:313\u001b[0m, in \u001b[0;36msimplify_graph\u001b[1;34m(G, strict, remove_rings, track_merged)\u001b[0m\n\u001b[0;32m    309\u001b[0m         path_attributes[attr] \u001b[39m=\u001b[39m \u001b[39mlist\u001b[39m(\u001b[39mset\u001b[39m(path_attributes[attr]))\n\u001b[0;32m    311\u001b[0m \u001b[39m# construct the new consolidated edge's geometry for this path\u001b[39;00m\n\u001b[0;32m    312\u001b[0m path_attributes[\u001b[39m\"\u001b[39m\u001b[39mgeometry\u001b[39m\u001b[39m\"\u001b[39m] \u001b[39m=\u001b[39m LineString(\n\u001b[1;32m--> 313\u001b[0m     [Point((G\u001b[39m.\u001b[39;49mnodes[node][\u001b[39m\"\u001b[39;49m\u001b[39mx\u001b[39;49m\u001b[39m\"\u001b[39;49m], G\u001b[39m.\u001b[39;49mnodes[node][\u001b[39m\"\u001b[39;49m\u001b[39my\u001b[39;49m\u001b[39m\"\u001b[39;49m])) \u001b[39mfor\u001b[39;00m node \u001b[39min\u001b[39;00m path]\n\u001b[0;32m    314\u001b[0m )\n\u001b[0;32m    316\u001b[0m \u001b[39mif\u001b[39;00m track_merged:\n\u001b[0;32m    317\u001b[0m     \u001b[39m# add the merged edges as a new attribute of the simplified edge\u001b[39;00m\n\u001b[0;32m    318\u001b[0m     path_attributes[\u001b[39m\"\u001b[39m\u001b[39mmerged_edges\u001b[39m\u001b[39m\"\u001b[39m] \u001b[39m=\u001b[39m merged_edges\n",
      "File \u001b[1;32m~\\AppData\\Roaming\\Python\\Python312\\site-packages\\shapely\\geometry\\point.py:78\u001b[0m, in \u001b[0;36mPoint.__new__\u001b[1;34m(self, *args)\u001b[0m\n\u001b[0;32m     76\u001b[0m \u001b[39mif\u001b[39;00m \u001b[39mnot\u001b[39;00m np\u001b[39m.\u001b[39missubdtype(coords\u001b[39m.\u001b[39mdtype, np\u001b[39m.\u001b[39mnumber):\n\u001b[0;32m     77\u001b[0m     coords \u001b[39m=\u001b[39m [\u001b[39mfloat\u001b[39m(c) \u001b[39mfor\u001b[39;00m c \u001b[39min\u001b[39;00m coords]\n\u001b[1;32m---> 78\u001b[0m geom \u001b[39m=\u001b[39m shapely\u001b[39m.\u001b[39;49mpoints(coords)\n\u001b[0;32m     79\u001b[0m \u001b[39mif\u001b[39;00m \u001b[39mnot\u001b[39;00m \u001b[39misinstance\u001b[39m(geom, Point):\n\u001b[0;32m     80\u001b[0m     \u001b[39mraise\u001b[39;00m \u001b[39mValueError\u001b[39;00m(\u001b[39m\"\u001b[39m\u001b[39mInvalid values passed to Point constructor\u001b[39m\u001b[39m\"\u001b[39m)\n",
      "File \u001b[1;32m~\\AppData\\Roaming\\Python\\Python312\\site-packages\\shapely\\decorators.py:77\u001b[0m, in \u001b[0;36mmultithreading_enabled.<locals>.wrapped\u001b[1;34m(*args, **kwargs)\u001b[0m\n\u001b[0;32m     75\u001b[0m     \u001b[39mfor\u001b[39;00m arr \u001b[39min\u001b[39;00m array_args:\n\u001b[0;32m     76\u001b[0m         arr\u001b[39m.\u001b[39mflags\u001b[39m.\u001b[39mwriteable \u001b[39m=\u001b[39m \u001b[39mFalse\u001b[39;00m\n\u001b[1;32m---> 77\u001b[0m     \u001b[39mreturn\u001b[39;00m func(\u001b[39m*\u001b[39;49margs, \u001b[39m*\u001b[39;49m\u001b[39m*\u001b[39;49mkwargs)\n\u001b[0;32m     78\u001b[0m \u001b[39mfinally\u001b[39;00m:\n\u001b[0;32m     79\u001b[0m     \u001b[39mfor\u001b[39;00m arr, old_flag \u001b[39min\u001b[39;00m \u001b[39mzip\u001b[39m(array_args, old_flags):\n",
      "File \u001b[1;32m~\\AppData\\Roaming\\Python\\Python312\\site-packages\\shapely\\creation.py:74\u001b[0m, in \u001b[0;36mpoints\u001b[1;34m(coords, y, z, indices, out, **kwargs)\u001b[0m\n\u001b[0;32m     72\u001b[0m coords \u001b[39m=\u001b[39m _xyz_to_coords(coords, y, z)\n\u001b[0;32m     73\u001b[0m \u001b[39mif\u001b[39;00m indices \u001b[39mis\u001b[39;00m \u001b[39mNone\u001b[39;00m:\n\u001b[1;32m---> 74\u001b[0m     \u001b[39mreturn\u001b[39;00m lib\u001b[39m.\u001b[39;49mpoints(coords, out\u001b[39m=\u001b[39;49mout, \u001b[39m*\u001b[39;49m\u001b[39m*\u001b[39;49mkwargs)\n\u001b[0;32m     75\u001b[0m \u001b[39melse\u001b[39;00m:\n\u001b[0;32m     76\u001b[0m     \u001b[39mreturn\u001b[39;00m simple_geometries_1d(coords, indices, GeometryType\u001b[39m.\u001b[39mPOINT, out\u001b[39m=\u001b[39mout)\n",
      "\u001b[1;31mKeyboardInterrupt\u001b[0m: "
     ]
    }
   ],
   "source": [
    "import osmnx as ox\n",
    "\n",
    "# Specify the city or region\n",
    "place_name = \"New York City, United States\"\n",
    "\n",
    "# Download OSM data\n",
    "G = ox.graph_from_place(place_name, network_type='all')\n"
   ]
  },
  {
   "cell_type": "code",
   "execution_count": 16,
   "metadata": {},
   "outputs": [],
   "source": [
    "gdf = ox.geocode_to_gdf('R7115709', by_osmid=True)"
   ]
  },
  {
   "cell_type": "code",
   "execution_count": 19,
   "metadata": {},
   "outputs": [
    {
     "data": {
      "text/html": [
       "<div>\n",
       "<style scoped>\n",
       "    .dataframe tbody tr th:only-of-type {\n",
       "        vertical-align: middle;\n",
       "    }\n",
       "\n",
       "    .dataframe tbody tr th {\n",
       "        vertical-align: top;\n",
       "    }\n",
       "\n",
       "    .dataframe thead th {\n",
       "        text-align: right;\n",
       "    }\n",
       "</style>\n",
       "<table border=\"1\" class=\"dataframe\">\n",
       "  <thead>\n",
       "    <tr style=\"text-align: right;\">\n",
       "      <th></th>\n",
       "      <th>geometry</th>\n",
       "      <th>bbox_north</th>\n",
       "      <th>bbox_south</th>\n",
       "      <th>bbox_east</th>\n",
       "      <th>bbox_west</th>\n",
       "      <th>place_id</th>\n",
       "      <th>osm_type</th>\n",
       "      <th>osm_id</th>\n",
       "      <th>lat</th>\n",
       "      <th>lon</th>\n",
       "      <th>class</th>\n",
       "      <th>type</th>\n",
       "      <th>place_rank</th>\n",
       "      <th>importance</th>\n",
       "      <th>addresstype</th>\n",
       "      <th>name</th>\n",
       "      <th>display_name</th>\n",
       "    </tr>\n",
       "  </thead>\n",
       "  <tbody>\n",
       "    <tr>\n",
       "      <th>0</th>\n",
       "      <td>POLYGON ((105.78828 20.94100, 105.78968 20.940...</td>\n",
       "      <td>20.986533</td>\n",
       "      <td>20.895805</td>\n",
       "      <td>105.913109</td>\n",
       "      <td>105.788279</td>\n",
       "      <td>237095728</td>\n",
       "      <td>relation</td>\n",
       "      <td>7115709</td>\n",
       "      <td>20.941462</td>\n",
       "      <td>105.836033</td>\n",
       "      <td>boundary</td>\n",
       "      <td>administrative</td>\n",
       "      <td>12</td>\n",
       "      <td>0.361038</td>\n",
       "      <td>city_district</td>\n",
       "      <td>Thanh Tri District</td>\n",
       "      <td>Thanh Tri District, Hà Nội, Vietnam</td>\n",
       "    </tr>\n",
       "  </tbody>\n",
       "</table>\n",
       "</div>"
      ],
      "text/plain": [
       "                                            geometry  bbox_north  bbox_south  \\\n",
       "0  POLYGON ((105.78828 20.94100, 105.78968 20.940...   20.986533   20.895805   \n",
       "\n",
       "    bbox_east   bbox_west   place_id  osm_type   osm_id        lat  \\\n",
       "0  105.913109  105.788279  237095728  relation  7115709  20.941462   \n",
       "\n",
       "          lon     class            type  place_rank  importance  \\\n",
       "0  105.836033  boundary  administrative          12    0.361038   \n",
       "\n",
       "     addresstype                name                         display_name  \n",
       "0  city_district  Thanh Tri District  Thanh Tri District, Hà Nội, Vietnam  "
      ]
     },
     "execution_count": 19,
     "metadata": {},
     "output_type": "execute_result"
    }
   ],
   "source": [
    "gdf"
   ]
  },
  {
   "cell_type": "code",
   "execution_count": 25,
   "metadata": {},
   "outputs": [
    {
     "ename": "InsufficientResponseError",
     "evalue": "Nominatim geocoder returned 0 results for query '237095728'",
     "output_type": "error",
     "traceback": [
      "\u001b[1;31m---------------------------------------------------------------------------\u001b[0m",
      "\u001b[1;31mInsufficientResponseError\u001b[0m                 Traceback (most recent call last)",
      "\u001b[1;32mc:\\Users\\An\\Documents\\GitHub\\VNOSM\\test.ipynb Cell 4\u001b[0m line \u001b[0;36m1\n\u001b[1;32m----> <a href='vscode-notebook-cell:/c%3A/Users/An/Documents/GitHub/VNOSM/test.ipynb#X21sZmlsZQ%3D%3D?line=0'>1</a>\u001b[0m G \u001b[39m=\u001b[39m ox\u001b[39m.\u001b[39;49mgraph_from_place(\u001b[39m'\u001b[39;49m\u001b[39m237095728\u001b[39;49m\u001b[39m'\u001b[39;49m, network_type\u001b[39m=\u001b[39;49m\u001b[39m'\u001b[39;49m\u001b[39mall\u001b[39;49m\u001b[39m'\u001b[39;49m)\n",
      "File \u001b[1;32m~\\AppData\\Roaming\\Python\\Python312\\site-packages\\osmnx\\graph.py:360\u001b[0m, in \u001b[0;36mgraph_from_place\u001b[1;34m(query, network_type, simplify, retain_all, truncate_by_edge, which_result, buffer_dist, clean_periphery, custom_filter)\u001b[0m\n\u001b[0;32m    356\u001b[0m \u001b[39m# create a GeoDataFrame with the spatial boundaries of the place(s)\u001b[39;00m\n\u001b[0;32m    357\u001b[0m \u001b[39mif\u001b[39;00m \u001b[39misinstance\u001b[39m(query, (\u001b[39mstr\u001b[39m, \u001b[39mdict\u001b[39m)):\n\u001b[0;32m    358\u001b[0m     \u001b[39m# if it is a string (place name) or dict (structured place query),\u001b[39;00m\n\u001b[0;32m    359\u001b[0m     \u001b[39m# then it is a single place\u001b[39;00m\n\u001b[1;32m--> 360\u001b[0m     gdf_place \u001b[39m=\u001b[39m geocoder\u001b[39m.\u001b[39;49mgeocode_to_gdf(\n\u001b[0;32m    361\u001b[0m         query, which_result\u001b[39m=\u001b[39;49mwhich_result, buffer_dist\u001b[39m=\u001b[39;49mbuffer_dist\n\u001b[0;32m    362\u001b[0m     )\n\u001b[0;32m    363\u001b[0m \u001b[39melif\u001b[39;00m \u001b[39misinstance\u001b[39m(query, \u001b[39mlist\u001b[39m):\n\u001b[0;32m    364\u001b[0m     \u001b[39m# if it is a list, it contains multiple places to get\u001b[39;00m\n\u001b[0;32m    365\u001b[0m     gdf_place \u001b[39m=\u001b[39m geocoder\u001b[39m.\u001b[39mgeocode_to_gdf(query, buffer_dist\u001b[39m=\u001b[39mbuffer_dist)\n",
      "File \u001b[1;32m~\\AppData\\Roaming\\Python\\Python312\\site-packages\\osmnx\\geocoder.py:137\u001b[0m, in \u001b[0;36mgeocode_to_gdf\u001b[1;34m(query, which_result, by_osmid, buffer_dist)\u001b[0m\n\u001b[0;32m    135\u001b[0m gdf \u001b[39m=\u001b[39m gpd\u001b[39m.\u001b[39mGeoDataFrame()\n\u001b[0;32m    136\u001b[0m \u001b[39mfor\u001b[39;00m q, wr \u001b[39min\u001b[39;00m \u001b[39mzip\u001b[39m(query, which_result):\n\u001b[1;32m--> 137\u001b[0m     gdf \u001b[39m=\u001b[39m pd\u001b[39m.\u001b[39mconcat([gdf, _geocode_query_to_gdf(q, wr, by_osmid)])\n\u001b[0;32m    139\u001b[0m \u001b[39m# reset GeoDataFrame index and set its CRS\u001b[39;00m\n\u001b[0;32m    140\u001b[0m gdf \u001b[39m=\u001b[39m gdf\u001b[39m.\u001b[39mreset_index(drop\u001b[39m=\u001b[39m\u001b[39mTrue\u001b[39;00m)\n",
      "File \u001b[1;32m~\\AppData\\Roaming\\Python\\Python312\\site-packages\\osmnx\\geocoder.py:187\u001b[0m, in \u001b[0;36m_geocode_query_to_gdf\u001b[1;34m(query, which_result, by_osmid)\u001b[0m\n\u001b[0;32m    184\u001b[0m \u001b[39mif\u001b[39;00m \u001b[39mnot\u001b[39;00m results:\n\u001b[0;32m    185\u001b[0m     \u001b[39m# if no results were returned, raise error\u001b[39;00m\n\u001b[0;32m    186\u001b[0m     msg \u001b[39m=\u001b[39m \u001b[39mf\u001b[39m\u001b[39m\"\u001b[39m\u001b[39mNominatim geocoder returned 0 results for query \u001b[39m\u001b[39m{\u001b[39;00mquery\u001b[39m!r}\u001b[39;00m\u001b[39m\"\u001b[39m\n\u001b[1;32m--> 187\u001b[0m     \u001b[39mraise\u001b[39;00m InsufficientResponseError(msg)\n\u001b[0;32m    189\u001b[0m \u001b[39mif\u001b[39;00m by_osmid:\n\u001b[0;32m    190\u001b[0m     \u001b[39m# if searching by OSM ID, always take the first (ie, only) result\u001b[39;00m\n\u001b[0;32m    191\u001b[0m     result \u001b[39m=\u001b[39m results[\u001b[39m0\u001b[39m]\n",
      "\u001b[1;31mInsufficientResponseError\u001b[0m: Nominatim geocoder returned 0 results for query '237095728'"
     ]
    }
   ],
   "source": [
    "G = ox.graph_from_place('237095728', network_type='all')"
   ]
  },
  {
   "cell_type": "code",
   "execution_count": 23,
   "metadata": {},
   "outputs": [
    {
     "data": {
      "text/plain": [
       "['__class__',\n",
       " '__contains__',\n",
       " '__delattr__',\n",
       " '__dict__',\n",
       " '__dir__',\n",
       " '__doc__',\n",
       " '__eq__',\n",
       " '__format__',\n",
       " '__ge__',\n",
       " '__getattribute__',\n",
       " '__getitem__',\n",
       " '__getstate__',\n",
       " '__gt__',\n",
       " '__hash__',\n",
       " '__init__',\n",
       " '__init_subclass__',\n",
       " '__iter__',\n",
       " '__le__',\n",
       " '__len__',\n",
       " '__lt__',\n",
       " '__module__',\n",
       " '__ne__',\n",
       " '__new__',\n",
       " '__reduce__',\n",
       " '__reduce_ex__',\n",
       " '__repr__',\n",
       " '__setattr__',\n",
       " '__sizeof__',\n",
       " '__str__',\n",
       " '__subclasshook__',\n",
       " '__weakref__',\n",
       " '_adj',\n",
       " '_node',\n",
       " '_pred',\n",
       " '_succ',\n",
       " 'add_edge',\n",
       " 'add_edges_from',\n",
       " 'add_node',\n",
       " 'add_nodes_from',\n",
       " 'add_weighted_edges_from',\n",
       " 'adj',\n",
       " 'adjacency',\n",
       " 'adjlist_inner_dict_factory',\n",
       " 'adjlist_outer_dict_factory',\n",
       " 'clear',\n",
       " 'clear_edges',\n",
       " 'copy',\n",
       " 'degree',\n",
       " 'edge_attr_dict_factory',\n",
       " 'edge_key_dict_factory',\n",
       " 'edge_subgraph',\n",
       " 'edges',\n",
       " 'get_edge_data',\n",
       " 'graph',\n",
       " 'graph_attr_dict_factory',\n",
       " 'has_edge',\n",
       " 'has_node',\n",
       " 'has_predecessor',\n",
       " 'has_successor',\n",
       " 'in_degree',\n",
       " 'in_edges',\n",
       " 'is_directed',\n",
       " 'is_multigraph',\n",
       " 'name',\n",
       " 'nbunch_iter',\n",
       " 'neighbors',\n",
       " 'new_edge_key',\n",
       " 'node_attr_dict_factory',\n",
       " 'node_dict_factory',\n",
       " 'nodes',\n",
       " 'number_of_edges',\n",
       " 'number_of_nodes',\n",
       " 'order',\n",
       " 'out_degree',\n",
       " 'out_edges',\n",
       " 'pred',\n",
       " 'predecessors',\n",
       " 'remove_edge',\n",
       " 'remove_edges_from',\n",
       " 'remove_node',\n",
       " 'remove_nodes_from',\n",
       " 'reverse',\n",
       " 'size',\n",
       " 'subgraph',\n",
       " 'succ',\n",
       " 'successors',\n",
       " 'to_directed',\n",
       " 'to_directed_class',\n",
       " 'to_undirected',\n",
       " 'to_undirected_class',\n",
       " 'update']"
      ]
     },
     "execution_count": 23,
     "metadata": {},
     "output_type": "execute_result"
    }
   ],
   "source": [
    "G.r"
   ]
  },
  {
   "cell_type": "code",
   "execution_count": 22,
   "metadata": {},
   "outputs": [
    {
     "ename": "AttributeError",
     "evalue": "'MultiDiGraph' object has no attribute 'relations'",
     "output_type": "error",
     "traceback": [
      "\u001b[1;31m---------------------------------------------------------------------------\u001b[0m",
      "\u001b[1;31mAttributeError\u001b[0m                            Traceback (most recent call last)",
      "\u001b[1;32mc:\\Users\\An\\Documents\\GitHub\\VNOSM\\test.ipynb Cell 5\u001b[0m line \u001b[0;36m2\n\u001b[0;32m      <a href='vscode-notebook-cell:/c%3A/Users/An/Documents/GitHub/VNOSM/test.ipynb#X25sZmlsZQ%3D%3D?line=0'>1</a>\u001b[0m \u001b[39m# Filter public transit relations\u001b[39;00m\n\u001b[1;32m----> <a href='vscode-notebook-cell:/c%3A/Users/An/Documents/GitHub/VNOSM/test.ipynb#X25sZmlsZQ%3D%3D?line=1'>2</a>\u001b[0m transit_relations \u001b[39m=\u001b[39m [rel \u001b[39mfor\u001b[39;00m rel \u001b[39min\u001b[39;00m G\u001b[39m.\u001b[39;49mrelations \u001b[39mif\u001b[39;00m \u001b[39m'\u001b[39m\u001b[39mroute\u001b[39m\u001b[39m'\u001b[39m \u001b[39min\u001b[39;00m rel\u001b[39m.\u001b[39mtags \u001b[39mand\u001b[39;00m rel\u001b[39m.\u001b[39mtags[\u001b[39m'\u001b[39m\u001b[39mroute\u001b[39m\u001b[39m'\u001b[39m] \u001b[39m==\u001b[39m \u001b[39m'\u001b[39m\u001b[39mbus\u001b[39m\u001b[39m'\u001b[39m]\n",
      "\u001b[1;31mAttributeError\u001b[0m: 'MultiDiGraph' object has no attribute 'relations'"
     ]
    }
   ],
   "source": [
    "# Filter public transit relations\n",
    "transit_relations = [rel for rel in G.relations if 'route' in rel.tags and rel.tags['route'] == 'bus']"
   ]
  },
  {
   "cell_type": "code",
   "execution_count": 13,
   "metadata": {},
   "outputs": [
    {
     "ename": "AttributeError",
     "evalue": "module 'osmnx' has no attribute 'graph_from_place_id'",
     "output_type": "error",
     "traceback": [
      "\u001b[1;31m---------------------------------------------------------------------------\u001b[0m",
      "\u001b[1;31mAttributeError\u001b[0m                            Traceback (most recent call last)",
      "\u001b[1;32mc:\\Users\\An\\Documents\\GitHub\\VNOSM\\test.ipynb Cell 4\u001b[0m line \u001b[0;36m2\n\u001b[0;32m     <a href='vscode-notebook-cell:/c%3A/Users/An/Documents/GitHub/VNOSM/test.ipynb#X23sZmlsZQ%3D%3D?line=22'>23</a>\u001b[0m \u001b[39m# Example: Get a graph from a specific OSM relation ID representing a city\u001b[39;00m\n\u001b[0;32m     <a href='vscode-notebook-cell:/c%3A/Users/An/Documents/GitHub/VNOSM/test.ipynb#X23sZmlsZQ%3D%3D?line=23'>24</a>\u001b[0m city_relation_id \u001b[39m=\u001b[39m \u001b[39m49915\u001b[39m  \u001b[39m# Replace with the actual OSM relation ID for the city\u001b[39;00m\n\u001b[1;32m---> <a href='vscode-notebook-cell:/c%3A/Users/An/Documents/GitHub/VNOSM/test.ipynb#X23sZmlsZQ%3D%3D?line=24'>25</a>\u001b[0m graph \u001b[39m=\u001b[39m get_graph_from_osm_relation(city_relation_id, network_type\u001b[39m=\u001b[39;49m\u001b[39m'\u001b[39;49m\u001b[39mall\u001b[39;49m\u001b[39m'\u001b[39;49m, simplify\u001b[39m=\u001b[39;49m\u001b[39mTrue\u001b[39;49;00m)\n\u001b[0;32m     <a href='vscode-notebook-cell:/c%3A/Users/An/Documents/GitHub/VNOSM/test.ipynb#X23sZmlsZQ%3D%3D?line=26'>27</a>\u001b[0m \u001b[39m# Plot the graph\u001b[39;00m\n\u001b[0;32m     <a href='vscode-notebook-cell:/c%3A/Users/An/Documents/GitHub/VNOSM/test.ipynb#X23sZmlsZQ%3D%3D?line=27'>28</a>\u001b[0m ox\u001b[39m.\u001b[39mplot_graph(ox\u001b[39m.\u001b[39mproject_graph(graph))\n",
      "\u001b[1;32mc:\\Users\\An\\Documents\\GitHub\\VNOSM\\test.ipynb Cell 4\u001b[0m line \u001b[0;36m1\n\u001b[0;32m      <a href='vscode-notebook-cell:/c%3A/Users/An/Documents/GitHub/VNOSM/test.ipynb#X23sZmlsZQ%3D%3D?line=6'>7</a>\u001b[0m \u001b[39m\u001b[39m\u001b[39m\"\"\"\u001b[39;00m\n\u001b[0;32m      <a href='vscode-notebook-cell:/c%3A/Users/An/Documents/GitHub/VNOSM/test.ipynb#X23sZmlsZQ%3D%3D?line=7'>8</a>\u001b[0m \u001b[39mGet a graph from a specific OpenStreetMap relation ID representing a city.\u001b[39;00m\n\u001b[0;32m      <a href='vscode-notebook-cell:/c%3A/Users/An/Documents/GitHub/VNOSM/test.ipynb#X23sZmlsZQ%3D%3D?line=8'>9</a>\u001b[0m \n\u001b[1;32m   (...)\u001b[0m\n\u001b[0;32m     <a href='vscode-notebook-cell:/c%3A/Users/An/Documents/GitHub/VNOSM/test.ipynb#X23sZmlsZQ%3D%3D?line=15'>16</a>\u001b[0m \u001b[39m    networkx.Graph: The street network graph.\u001b[39;00m\n\u001b[0;32m     <a href='vscode-notebook-cell:/c%3A/Users/An/Documents/GitHub/VNOSM/test.ipynb#X23sZmlsZQ%3D%3D?line=16'>17</a>\u001b[0m \u001b[39m\"\"\"\u001b[39;00m\n\u001b[0;32m     <a href='vscode-notebook-cell:/c%3A/Users/An/Documents/GitHub/VNOSM/test.ipynb#X23sZmlsZQ%3D%3D?line=17'>18</a>\u001b[0m \u001b[39m# Download OSM data using the relation ID\u001b[39;00m\n\u001b[1;32m---> <a href='vscode-notebook-cell:/c%3A/Users/An/Documents/GitHub/VNOSM/test.ipynb#X23sZmlsZQ%3D%3D?line=18'>19</a>\u001b[0m osm_data \u001b[39m=\u001b[39m ox\u001b[39m.\u001b[39;49mgraph_from_place_id(relation_id, network_type\u001b[39m=\u001b[39mnetwork_type, simplify\u001b[39m=\u001b[39msimplify)\n\u001b[0;32m     <a href='vscode-notebook-cell:/c%3A/Users/An/Documents/GitHub/VNOSM/test.ipynb#X23sZmlsZQ%3D%3D?line=20'>21</a>\u001b[0m \u001b[39mreturn\u001b[39;00m osm_data\n",
      "\u001b[1;31mAttributeError\u001b[0m: module 'osmnx' has no attribute 'graph_from_place_id'"
     ]
    }
   ],
   "source": [
    "import osmnx as ox\n",
    "import networkx as nx\n",
    "import matplotlib.pyplot as plt\n",
    "\n",
    "# Function to get a graph from OSM relation ID\n",
    "def get_graph_from_osm_relation(relation_id, network_type='all', simplify=True):\n",
    "    \"\"\"\n",
    "    Get a graph from a specific OpenStreetMap relation ID representing a city.\n",
    "\n",
    "    Parameters:\n",
    "        relation_id (int): The OpenStreetMap relation ID of the city.\n",
    "        network_type (str): The type of street network to retrieve ('all', 'drive', 'walk', 'bike').\n",
    "        simplify (bool): If True, simplify the graph topology.\n",
    "\n",
    "    Returns:\n",
    "        networkx.Graph: The street network graph.\n",
    "    \"\"\"\n",
    "    # Download OSM data using the relation ID\n",
    "    osm_data = ox.graph_from_place_id(relation_id, network_type=network_type, simplify=simplify)\n",
    "\n",
    "    return osm_data\n",
    "\n",
    "# Example: Get a graph from a specific OSM relation ID representing a city\n",
    "city_relation_id = 49915  # Replace with the actual OSM relation ID for the city\n",
    "graph = get_graph_from_osm_relation(city_relation_id, network_type='all', simplify=True)\n",
    "\n",
    "# Plot the graph\n",
    "ox.plot_graph(ox.project_graph(graph))\n",
    "plt.show()\n"
   ]
  }
 ],
 "metadata": {
  "kernelspec": {
   "display_name": "Python 3",
   "language": "python",
   "name": "python3"
  },
  "language_info": {
   "codemirror_mode": {
    "name": "ipython",
    "version": 3
   },
   "file_extension": ".py",
   "mimetype": "text/x-python",
   "name": "python",
   "nbconvert_exporter": "python",
   "pygments_lexer": "ipython3",
   "version": "3.12.0"
  }
 },
 "nbformat": 4,
 "nbformat_minor": 2
}
